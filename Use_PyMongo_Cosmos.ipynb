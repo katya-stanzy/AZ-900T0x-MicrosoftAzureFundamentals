{
  "nbformat": 4,
  "nbformat_minor": 0,
  "metadata": {
    "colab": {
      "name": "Use PyMongo Cosmos.ipynb",
      "provenance": [],
      "collapsed_sections": [],
      "include_colab_link": true
    },
    "kernelspec": {
      "name": "python3",
      "display_name": "Python 3"
    },
    "language_info": {
      "name": "python"
    }
  },
  "cells": [
    {
      "cell_type": "markdown",
      "metadata": {
        "id": "view-in-github",
        "colab_type": "text"
      },
      "source": [
        "<a href=\"https://colab.research.google.com/github/katya-stanzy/AZ-900T0x-MicrosoftAzureFundamentals/blob/master/Use_PyMongo_Cosmos.ipynb\" target=\"_parent\"><img src=\"https://colab.research.google.com/assets/colab-badge.svg\" alt=\"Open In Colab\"/></a>"
      ]
    },
    {
      "cell_type": "code",
      "metadata": {
        "id": "4J2wIcM1-ZdB"
      },
      "source": [
        "# PLEASE DO NOT CHANGE THIS LINE\n",
        "import pymongo\n",
        "uri = \"mongodb://randomwhale:hN837NgLsDvLuQOIlMJ9klk71vdcxDoYtat8Cs5RjA4k4q0Y7DjqLwGBn1N12U46dtsdWsXvBgjuHDg75UlGWg==@randomwhale.mongo.cosmos.azure.com:10255/?ssl=true&retrywrites=false&replicaSet=globaldb&maxIdleTimeMS=120000&appName=@randomwhale@\"\n",
        "client = pymongo.MongoClient(uri)"
      ],
      "execution_count": null,
      "outputs": []
    },
    {
      "cell_type": "code",
      "metadata": {
        "id": "D1UWc_tb1vAU"
      },
      "source": [
        "mydb = client[\"dodoisdancing\"] # PLEASE DO NOT CHANGE THIS LINE"
      ],
      "execution_count": null,
      "outputs": []
    },
    {
      "cell_type": "code",
      "metadata": {
        "id": "ViuCq-5D87BV"
      },
      "source": [
        "mycol = mydb[\"fish\"] # Change collection name 'fish' to anything else that you like!"
      ],
      "execution_count": null,
      "outputs": []
    },
    {
      "cell_type": "code",
      "metadata": {
        "id": "s-j7opwR9HFW"
      },
      "source": [
        "mydict = { \"name\": \"John\", \"address\": \"Highway 37\" }\n",
        "\n",
        "x = mycol.insert_one(mydict)"
      ],
      "execution_count": null,
      "outputs": []
    },
    {
      "cell_type": "code",
      "metadata": {
        "id": "McCQQaXI9SOe"
      },
      "source": [
        "mydict = { \"name\": \"Shrimp\", \"age\": 30 }\n",
        "\n",
        "x = mycol.insert_one(mydict)"
      ],
      "execution_count": null,
      "outputs": []
    },
    {
      "cell_type": "code",
      "metadata": {
        "id": "BDOiHbc-G7lM"
      },
      "source": [
        ""
      ],
      "execution_count": null,
      "outputs": []
    },
    {
      "cell_type": "code",
      "metadata": {
        "id": "n0EgDSQq9qIL"
      },
      "source": [
        "r2 = { \"name\": \"Shrimp\", \"complex\": mydict , \"subjects\":[\"eng\",\"fr\",\"gt\"]}\n",
        "\n",
        "x = mycol.insert_one(r2)"
      ],
      "execution_count": null,
      "outputs": []
    },
    {
      "cell_type": "code",
      "metadata": {
        "colab": {
          "base_uri": "https://localhost:8080/"
        },
        "id": "Bu_SKVlg94LP",
        "outputId": "bdd05067-7aaa-448f-eae1-6c8957005d01"
      },
      "source": [
        "# MongoDB-> Document Database \n",
        "for x in mycol.find():\n",
        "  print(x)"
      ],
      "execution_count": null,
      "outputs": [
        {
          "output_type": "stream",
          "name": "stdout",
          "text": [
            "{'_id': ObjectId('619bbf0bd8ebcf4cbfecc5ba'), 'name': 'John', 'address': 'Highway 37'}\n",
            "{'_id': ObjectId('619bbf10d8ebcf4cbfecc5bb'), 'name': 'Shrimp', 'age': 30}\n",
            "{'_id': ObjectId('619bbf13d8ebcf4cbfecc5bc'), 'name': 'Shrimp', 'complex': {'name': 'Shrimp', 'age': 30, '_id': ObjectId('619bbf10d8ebcf4cbfecc5bb')}, 'subjects': ['eng', 'fr', 'gt']}\n"
          ]
        }
      ]
    },
    {
      "cell_type": "code",
      "metadata": {
        "colab": {
          "base_uri": "https://localhost:8080/"
        },
        "id": "1hWjlFs2-d7f",
        "outputId": "744fef0b-5ff6-4f88-885c-0530607e1f7c"
      },
      "source": [
        "for x in mycol.find({\"name\":\"Shrimp\", \"age\":30}).limit(1):\n",
        "  print(x)"
      ],
      "execution_count": null,
      "outputs": [
        {
          "output_type": "stream",
          "name": "stdout",
          "text": [
            "{'_id': ObjectId('619bbf10d8ebcf4cbfecc5bb'), 'name': 'Shrimp', 'age': 30}\n"
          ]
        }
      ]
    },
    {
      "cell_type": "code",
      "metadata": {
        "colab": {
          "base_uri": "https://localhost:8080/"
        },
        "id": "PaT8LNoeMFRe",
        "outputId": "0e265785-a5ab-4816-ff06-063894dec507"
      },
      "source": [
        "myquery = { \"name\": { \"$regex\": \"p$\" } } # for example, this is a \n",
        "# regular expression that ends with letter 'p'\n",
        "\n",
        "mydoc = mycol.find(myquery)\n",
        "\n",
        "for x in mydoc:\n",
        "  print(x)"
      ],
      "execution_count": null,
      "outputs": [
        {
          "output_type": "stream",
          "name": "stdout",
          "text": [
            "{'_id': ObjectId('619bbf10d8ebcf4cbfecc5bb'), 'name': 'Shrimp', 'age': 30}\n",
            "{'_id': ObjectId('619bbf13d8ebcf4cbfecc5bc'), 'name': 'Shrimp', 'complex': {'name': 'Shrimp', 'age': 30, '_id': ObjectId('619bbf10d8ebcf4cbfecc5bb')}, 'subjects': ['eng', 'fr', 'gt']}\n"
          ]
        }
      ]
    },
    {
      "cell_type": "code",
      "metadata": {
        "id": "_6lUJBBh-kIZ"
      },
      "source": [
        "# Modern-> 2 things-> Credentials, strictly mantain relationship \n",
        "# SQL-> Tx\n",
        "# moving from SQL to Mongo or Blob or Table\n",
        "# Search from there! "
      ],
      "execution_count": null,
      "outputs": []
    },
    {
      "cell_type": "code",
      "metadata": {
        "id": "q7ZND5iA_9ug"
      },
      "source": [
        "# Product Description\n",
        "# TV, Fridge, Ship-> price, catID-> SEMI - STRUCTURED\n",
        "# diagonal, price, \n",
        "# volume, price, color\n",
        "# capacity, name, not_available \n"
      ],
      "execution_count": null,
      "outputs": []
    },
    {
      "cell_type": "code",
      "metadata": {
        "id": "TAOECAAtAZ7v"
      },
      "source": [
        "# Shopping basket -> { itemid, item count, unit price, totalprice}-> "
      ],
      "execution_count": null,
      "outputs": []
    },
    {
      "cell_type": "code",
      "metadata": {
        "id": "Izk3_QuQAov4"
      },
      "source": [
        "# use SQL-> RELATIONSHIPs-> FK "
      ],
      "execution_count": null,
      "outputs": []
    },
    {
      "cell_type": "code",
      "metadata": {
        "id": "LY5uckz_MBAe"
      },
      "source": [
        ""
      ],
      "execution_count": null,
      "outputs": []
    }
  ]
}